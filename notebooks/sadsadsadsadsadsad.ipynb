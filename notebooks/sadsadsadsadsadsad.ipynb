{
 "cells": [
  {
   "cell_type": "code",
   "execution_count": 8,
   "id": "ccceca77",
   "metadata": {},
   "outputs": [
    {
     "name": "stdout",
     "output_type": "stream",
     "text": [
      "Features presentes en df_raw pero no en df_test: ['RoofMatl_Roll', 'HouseStyle_2.5Fin', 'Condition2_RRAn', 'Condition2_RRNn', 'Electrical_Mix', 'GarageQual_Fa', 'MiscFeature_TenC', 'PoolQC_Fa', 'Condition2_RRAe', 'Exterior2nd_Other', 'Heating_GasA', 'Exterior1st_Stone', 'RoofMatl_CompShg', 'Exterior1st_ImStucc', 'Utilities_NoSeWa', 'RoofMatl_Membran', 'Heating_OthW', 'RoofMatl_Metal']\n",
      "\n",
      "\n",
      "Features presentes en test pero no en raw: []\n"
     ]
    }
   ],
   "source": [
    "import pandas as pd\n",
    "\n",
    "df_raw = pd.read_csv(\"../data/prep.csv\")\n",
    "df_test = pd.read_csv(\"../data/inference.csv\")\n",
    "\n",
    "def check_feature_names(df1, df2):\n",
    "    \"\"\"\n",
    "    Verifica los nombres de las columnas en dos DataFrames.\n",
    "    \n",
    "    Parameters:\n",
    "    - df1: DataFrame 1\n",
    "    - df2: DataFrame 2\n",
    "    \n",
    "    Returns:\n",
    "    - Lista de nombres de columnas presentes en df1 pero no en df2 y viceversa.\n",
    "    \"\"\"\n",
    "    set1 = set(df1.columns)\n",
    "    set2 = set(df2.columns)\n",
    "    \n",
    "    in_df1_not_df2 = set1 - set2\n",
    "    in_df2_not_df1 = set2 - set1\n",
    "    \n",
    "    return list(in_df1_not_df2), list(in_df2_not_df1)\n",
    "\n",
    "# Ejemplo de uso:\n",
    "# Suponiendo que df_train y df_inference son tus DataFrames de entrenamiento e inferencia, respectivamente\n",
    "# Puedes cambiar estos DataFrames de acuerdo a tu estructura de datos\n",
    "\n",
    "missing_features_train, missing_features_inference = check_feature_names(df_raw, df_test)\n",
    "\n",
    "print(\"Features presentes en df_raw pero no en df_test:\", missing_features_train)\n",
    "print(\"\\n\")\n",
    "print(\"Features presentes en test pero no en raw:\", missing_features_inference)\n"
   ]
  },
  {
   "cell_type": "code",
   "execution_count": null,
   "id": "ce8a682a",
   "metadata": {},
   "outputs": [],
   "source": []
  }
 ],
 "metadata": {
  "kernelspec": {
   "display_name": "Python 3 (ipykernel)",
   "language": "python",
   "name": "python3"
  },
  "language_info": {
   "codemirror_mode": {
    "name": "ipython",
    "version": 3
   },
   "file_extension": ".py",
   "mimetype": "text/x-python",
   "name": "python",
   "nbconvert_exporter": "python",
   "pygments_lexer": "ipython3",
   "version": "3.10.9"
  }
 },
 "nbformat": 4,
 "nbformat_minor": 5
}
